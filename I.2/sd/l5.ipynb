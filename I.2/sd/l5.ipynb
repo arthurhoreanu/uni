{
 "cells": [
  {
   "cell_type": "code",
   "execution_count": 1,
   "id": "30413a31",
   "metadata": {},
   "outputs": [
    {
     "data": {
      "text/plain": [
       "-2*(x + 1)*e^(2*x) - 2*(x - 1)*e^(2*x) + 4*x*e^(2*x)"
      ]
     },
     "execution_count": 1,
     "metadata": {},
     "output_type": "execute_result"
    }
   ],
   "source": [
    "x=var('x')\n",
    "y=function('y')(x)\n",
    "deq=x*diff(y,x,2)-(x+1)*diff(y,x)-2*(x-1)*y==0\n",
    "u=function('u')(x)\n",
    "u(x)=e^(2*x)\n",
    "ans=x*diff(u,x,2)-(x+1)*diff(u,x)-2*(x-1)*u\n",
    "ans(x)"
   ]
  },
  {
   "cell_type": "code",
   "execution_count": 2,
   "id": "3cef502b",
   "metadata": {},
   "outputs": [
    {
     "data": {
      "text/plain": [
       "0"
      ]
     },
     "execution_count": 2,
     "metadata": {},
     "output_type": "execute_result"
    }
   ],
   "source": [
    "expand(ans(x))"
   ]
  },
  {
   "cell_type": "code",
   "execution_count": 3,
   "id": "718c2678",
   "metadata": {},
   "outputs": [
    {
     "data": {
      "text/plain": [
       "sin(x)*tan(x) + cos(x)"
      ]
     },
     "execution_count": 3,
     "metadata": {},
     "output_type": "execute_result"
    }
   ],
   "source": [
    "reset()\n",
    "x=var('x')\n",
    "y=function('y')(x)\n",
    "deq=diff(y,x,2)-tan(x)*diff(y,x)+2*y==0\n",
    "u=function('u')(x)\n",
    "u(x)=cos(x)\n",
    "ans=diff(u,x,2)-tan(x)*diff(u,x)+2*u\n",
    "ans(x)"
   ]
  },
  {
   "cell_type": "code",
   "execution_count": 4,
   "id": "d279c994",
   "metadata": {},
   "outputs": [],
   "source": [
    "x=var('x')\n",
    "y=function('y')(x)\n",
    "deq=x*diff(y,x,2)-(2*x+1)*diff(y,x)+2*y==0\n",
    "a=var('a')\n",
    "u=function('u')(x)\n",
    "u(x)=e^(a*x)"
   ]
  },
  {
   "cell_type": "code",
   "execution_count": 5,
   "id": "27c9c69a",
   "metadata": {},
   "outputs": [],
   "source": [
    "def L(y):\n",
    "    a(x)=expand(x*diff(y,x,2)-(2*x+1)*diff(y,x)+2*y)\n",
    "    return a(x)"
   ]
  },
  {
   "cell_type": "code",
   "execution_count": 6,
   "id": "12cb96b2",
   "metadata": {},
   "outputs": [
    {
     "data": {
      "text/plain": [
       "a^2*x*e^(a*x) - 2*a*x*e^(a*x) - a*e^(a*x) + 2*e^(a*x)"
      ]
     },
     "execution_count": 6,
     "metadata": {},
     "output_type": "execute_result"
    }
   ],
   "source": [
    "L(u)"
   ]
  },
  {
   "cell_type": "code",
   "execution_count": 7,
   "id": "2e9e3da6",
   "metadata": {},
   "outputs": [
    {
     "data": {
      "text/plain": [
       "[[-a*e^(a*x) + 2*e^(a*x), 0], [a^2*e^(a*x) - 2*a*e^(a*x), 1]]"
      ]
     },
     "execution_count": 7,
     "metadata": {},
     "output_type": "execute_result"
    }
   ],
   "source": [
    "ans=L(u)\n",
    "ans.coefficients(x)"
   ]
  },
  {
   "cell_type": "code",
   "execution_count": 8,
   "id": "710b7303",
   "metadata": {},
   "outputs": [],
   "source": [
    "x=var('x')\n",
    "y=function('y')(x)\n",
    "deq=(x-1)*diff(y,x,2)-x*diff(y,x)+y==0"
   ]
  },
  {
   "cell_type": "code",
   "execution_count": 9,
   "id": "d7d85e68",
   "metadata": {},
   "outputs": [],
   "source": [
    "def L(y):\n",
    "    a(x)=(x-1)*diff(y,x,2)-x*diff(y,x)+y\n",
    "    return a(x)"
   ]
  },
  {
   "cell_type": "code",
   "execution_count": 10,
   "id": "aa69147f",
   "metadata": {},
   "outputs": [
    {
     "data": {
      "text/plain": [
       "0"
      ]
     },
     "execution_count": 10,
     "metadata": {},
     "output_type": "execute_result"
    }
   ],
   "source": [
    "y1=function('y1')(x)\n",
    "y2=function('y2')(x)\n",
    "y1(x)=x\n",
    "y2(x)=e^x\n",
    "L(y1)"
   ]
  },
  {
   "cell_type": "code",
   "execution_count": 11,
   "id": "82da3f2c",
   "metadata": {},
   "outputs": [
    {
     "data": {
      "text/plain": [
       "(x - 1)*e^x - x*e^x + e^x"
      ]
     },
     "execution_count": 11,
     "metadata": {},
     "output_type": "execute_result"
    }
   ],
   "source": [
    "L(y2)"
   ]
  },
  {
   "cell_type": "code",
   "execution_count": null,
   "id": "ebc7f81e",
   "metadata": {},
   "outputs": [],
   "source": []
  }
 ],
 "metadata": {
  "kernelspec": {
   "display_name": "SageMath 10.2",
   "language": "sage",
   "name": "sagemath"
  },
  "language_info": {
   "codemirror_mode": {
    "name": "ipython",
    "version": 3
   },
   "file_extension": ".py",
   "mimetype": "text/x-python",
   "name": "python",
   "nbconvert_exporter": "python",
   "pygments_lexer": "ipython3",
   "version": "3.11.1"
  }
 },
 "nbformat": 4,
 "nbformat_minor": 5
}
